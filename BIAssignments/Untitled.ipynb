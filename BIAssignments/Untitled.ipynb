{
 "cells": [
  {
   "cell_type": "code",
   "execution_count": 1,
   "metadata": {},
   "outputs": [
    {
     "name": "stdout",
     "output_type": "stream",
     "text": [
      "120-million-word-spanish-corpus.zip  spanishText_360000_365000\r\n",
      "spanish_corpus\t\t\t     spanishText_365000_370000\r\n",
      "spanishText_10000_15000\t\t     spanishText_370000_375000\r\n",
      "spanishText_110000_115000\t     spanishText_375000_380000\r\n",
      "spanishText_120000_125000\t     spanishText_380000_385000\r\n",
      "spanishText_15000_20000\t\t     spanishText_385000_390000\r\n",
      "spanishText_180000_185000\t     spanishText_390000_395000\r\n",
      "spanishText_185000_190000\t     spanishText_395000_400000\r\n",
      "spanishText_200000_205000\t     spanishText_400000_405000\r\n",
      "spanishText_20000_25000\t\t     spanishText_40000_45000\r\n",
      "spanishText_205000_210000\t     spanishText_405000_410000\r\n",
      "spanishText_210000_215000\t     spanishText_410000_415000\r\n",
      "spanishText_225000_230000\t     spanishText_415000_420000\r\n",
      "spanishText_230000_235000\t     spanishText_420000_425000\r\n",
      "spanishText_25000_30000\t\t     spanishText_425000_430000\r\n",
      "spanishText_260000_265000\t     spanishText_430000_435000\r\n",
      "spanishText_265000_270000\t     spanishText_435000_440000\r\n",
      "spanishText_270000_275000\t     spanishText_440000_445000\r\n",
      "spanishText_285000_290000\t     spanishText_445000_450000\r\n",
      "spanishText_305000_310000\t     spanishText_450000_455000\r\n",
      "spanishText_310000_315000\t     spanishText_45000_50000\r\n",
      "spanishText_315000_320000\t     spanishText_455000_460000\r\n",
      "spanishText_320000_325000\t     spanishText_460000_465000\r\n",
      "spanishText_325000_330000\t     spanishText_465000_470000\r\n",
      "spanishText_330000_335000\t     spanishText_470000_475000\r\n",
      "spanishText_335000_340000\t     spanishText_475000_480000\r\n",
      "spanishText_340000_345000\t     spanishText_480000_485000\r\n",
      "spanishText_345000_350000\t     spanishText_70000_75000\r\n",
      "spanishText_350000_355000\t     spanishText_90000_95000\r\n",
      "spanishText_355000_360000\t     Untitled.ipynb\r\n"
     ]
    }
   ],
   "source": [
    "!ls"
   ]
  },
  {
   "cell_type": "code",
   "execution_count": 24,
   "metadata": {},
   "outputs": [
    {
     "name": "stdout",
     "output_type": "stream",
     "text": [
      "Archive:  120-million-word-spanish-corpus.zip\n",
      "replace spanishText_10000_15000? [y]es, [n]o, [A]ll, [N]one, [r]ename: ^C\n"
     ]
    }
   ],
   "source": [
    "!unzip 120-million-word-spanish-corpus.zip"
   ]
  },
  {
   "cell_type": "code",
   "execution_count": 2,
   "metadata": {},
   "outputs": [
    {
     "name": "stdout",
     "output_type": "stream",
     "text": [
      "<doc id=\"391569\" title=\"Laguna de Paca\" nonfiltered=\"1\" processed=\"1\" dbindex=\"120000\">\r\n",
      "La Laguna de Paca es una laguna que se encuentra muy cerca de la ciudad de Jauja, Per�, lugar preferido de paseo para los jaujinos y muy visitada por gente de todo el Valle del Mantaro.\r\n",
      "\r\n",
      "Esta laguna se sit�a a 3,418 m.s.n.m. entre los distritos de Paca, Chun�n y Panc�n a 2.5 km al Norte de la ciudad de Jauja. Su espejo de agua es de 21.40 km2 y tiene una capacidad de 85.50 mil m3, los totorales de la laguna sirven de h�bitat a gran variedad de aves silvestres. Es la zona tur�stica m�s visitada del Valle del Mantaro. Su enorme espejo de agua cuenta con hoteles y restaurantes, y durante los fines de semana se llenan de visitantes para pasear por sus aguas o para saborear una deliciosa pachamanca o un plato de trucha frita.\r\n",
      "\r\n",
      "Hermosa laguna de aguas tranquilas sobre las que se han tejido algunas leyendas. Una de ellas cuenta que en su fondo yacen llamas con cargamentos de oro y plata que fueron lanzadas all� por la caravana de s�bditos del inca que ven�an del Cusco al enterarse que Atahualpa hab�a sido asesinado; el cargamento aparentemente ir�a a incrementar el rescate que este inca ofreci� a los espa�oles por su liberaci�n. Atesora otras leyendas y mitos que se han trasmitido de generaci�n en generaci�n como aqu�l del origen de la laguna, de la sirena de cabellos dorados y de la campana de oro. Se dice tambi�n que esta laguna est� de alguna forma conectada con la Laguna de �ahuimpuquio cerca a la ciudad de Chupaca.\r\n",
      "\r\n",
      "\r\n",
      "\r\n",
      "\r\n"
     ]
    }
   ],
   "source": [
    "!head spanish_corpus/spanishText_120000_125000"
   ]
  },
  {
   "cell_type": "code",
   "execution_count": 3,
   "metadata": {},
   "outputs": [
    {
     "name": "stdout",
     "output_type": "stream",
     "text": [
      "grep: spanish_corpus/spanishText_10000_150000: No such file or directory\n",
      "0\n"
     ]
    }
   ],
   "source": [
    "!grep 'doc>' spanish_corpus/spanishText_10000_150000 | wc -l"
   ]
  },
  {
   "cell_type": "code",
   "execution_count": 33,
   "metadata": {},
   "outputs": [],
   "source": [
    "def read_lines(f):\n",
    "    return open(f, encoding='ISO-8859-1').read().splitlines()\n",
    "\n",
    "def filter_lines(lines):\n",
    "    for line in lines:\n",
    "        if line.startswith('<doc'):\n",
    "            continue\n",
    "        if line.startswith('</doc'):\n",
    "            continue\n",
    "        if line.startswith('ENDOFARTICLE'):\n",
    "            continue\n",
    "        line = line.strip()\n",
    "        if not line:\n",
    "            continue\n",
    "        yield line\n",
    "\n",
    "def fix_text(text):\n",
    "    to_replace= ',.!()0123456789;:-/?%$\"'\n",
    "    for c in to_replace:\n",
    "        text = text.replace(c, ' ')\n",
    "    return text.lower()\n",
    "        \n",
    "def get_words(lines):\n",
    "    for line in lines:\n",
    "        line = fix_text(line)\n",
    "        for word in line.split():\n",
    "            yield word\n",
    "\n",
    "            \n",
    "def all_words():\n",
    "    files = !find . | grep spanishText\n",
    "    for f in files:\n",
    "        lines = read_file(f)\n",
    "        filtered_lines = filter_lines(lines)\n",
    "        words = get_words(filtered_lines)\n",
    "        yield from words"
   ]
  },
  {
   "cell_type": "code",
   "execution_count": 4,
   "metadata": {},
   "outputs": [
    {
     "ename": "NameError",
     "evalue": "name 'all_words' is not defined",
     "output_type": "error",
     "traceback": [
      "\u001b[0;31m---------------------------------------------------------------------------\u001b[0m",
      "\u001b[0;31mNameError\u001b[0m                                 Traceback (most recent call last)",
      "\u001b[0;32m<timed exec>\u001b[0m in \u001b[0;36m<module>\u001b[0;34m\u001b[0m\n",
      "\u001b[0;31mNameError\u001b[0m: name 'all_words' is not defined"
     ]
    }
   ],
   "source": [
    "%%time\n",
    "import collections\n",
    "counter = collections.Counter(all_words())"
   ]
  },
  {
   "cell_type": "code",
   "execution_count": null,
   "metadata": {},
   "outputs": [],
   "source": []
  }
 ],
 "metadata": {
  "kernelspec": {
   "display_name": "Python 3",
   "language": "python",
   "name": "python3"
  },
  "language_info": {
   "codemirror_mode": {
    "name": "ipython",
    "version": 3
   },
   "file_extension": ".py",
   "mimetype": "text/x-python",
   "name": "python",
   "nbconvert_exporter": "python",
   "pygments_lexer": "ipython3",
   "version": "3.7.2"
  },
  "toc": {
   "base_numbering": 1,
   "nav_menu": {},
   "number_sections": true,
   "sideBar": true,
   "skip_h1_title": false,
   "title_cell": "Table of Contents",
   "title_sidebar": "Contents",
   "toc_cell": false,
   "toc_position": {},
   "toc_section_display": true,
   "toc_window_display": false
  }
 },
 "nbformat": 4,
 "nbformat_minor": 2
}
